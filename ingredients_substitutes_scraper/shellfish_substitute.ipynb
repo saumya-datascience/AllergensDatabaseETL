{
 "cells": [
  {
   "cell_type": "code",
   "execution_count": 1,
   "metadata": {},
   "outputs": [],
   "source": [
    "import pandas as pd\n",
    "import requests\n",
    "from bs4 import BeautifulSoup as bs"
   ]
  },
  {
   "cell_type": "code",
   "execution_count": 2,
   "metadata": {},
   "outputs": [],
   "source": [
    "url = \"https://theveganatlas.com/7-plant-based-seafood-alternatives-that-you-need-to-try/\"\n",
    "url_path = requests.get(url)"
   ]
  },
  {
   "cell_type": "code",
   "execution_count": 3,
   "metadata": {},
   "outputs": [],
   "source": [
    "soup = bs(url_path.content)"
   ]
  },
  {
   "cell_type": "code",
   "execution_count": 49,
   "metadata": {},
   "outputs": [],
   "source": [
    "# soup"
   ]
  },
  {
   "cell_type": "code",
   "execution_count": 50,
   "metadata": {},
   "outputs": [
    {
     "data": {
      "text/plain": [
       "9"
      ]
     },
     "execution_count": 50,
     "metadata": {},
     "output_type": "execute_result"
    }
   ],
   "source": [
    "ul_list = soup.find_all(\"ul\")\n",
    "len(ul_list)"
   ]
  },
  {
   "cell_type": "code",
   "execution_count": 51,
   "metadata": {},
   "outputs": [
    {
     "data": {
      "text/plain": [
       "<ul>\n",
       "<li>BeLeaf: Plant-based shrimp</li>\n",
       "<li>Gardein: Fish-less filets and mini crab-less cakes</li>\n",
       "<li>Good Catch: Fish-free tuna, crab cakes, fish-free fillets &amp; burgers</li>\n",
       "<li>Jinka: Plant-based tuna</li>\n",
       "<li>Loma Linda: Plant-based tuna</li>\n",
       "<li>New Wave: Plant-based shrimp</li>\n",
       "<li>Ocean Hugger Foods: Plant-based “raw” ahi</li>\n",
       "<li>Quorn: Fish-less sticks</li>\n",
       "<li>Sophie’s Kitchen: Plant-based shrimp, smoked salmon, crab cakes, fish fillet</li>\n",
       "</ul>"
      ]
     },
     "execution_count": 51,
     "metadata": {},
     "output_type": "execute_result"
    }
   ],
   "source": [
    "ul_list[3]"
   ]
  },
  {
   "cell_type": "code",
   "execution_count": 53,
   "metadata": {},
   "outputs": [
    {
     "data": {
      "text/plain": [
       "['BeLeaf: Plant-based shrimp',\n",
       " 'Gardein: Fish-less filets and mini crab-less cakes',\n",
       " 'Good Catch: Fish-free tuna, crab cakes, fish-free fillets & burgers',\n",
       " 'Jinka: Plant-based tuna',\n",
       " 'Loma Linda: Plant-based tuna',\n",
       " 'New Wave: Plant-based shrimp',\n",
       " 'Ocean Hugger Foods: Plant-based “raw” ahi',\n",
       " 'Quorn: Fish-less sticks',\n",
       " 'Sophie’s Kitchen: Plant-based shrimp, smoked salmon, crab cakes, fish fillet']"
      ]
     },
     "execution_count": 53,
     "metadata": {},
     "output_type": "execute_result"
    }
   ],
   "source": [
    "shellfish_substitutes = [i.text for i in ul_list[3].find_all(\"li\")]\n",
    "shellfish_substitutes"
   ]
  },
  {
   "cell_type": "code",
   "execution_count": 54,
   "metadata": {},
   "outputs": [
    {
     "data": {
      "text/html": [
       "<div>\n",
       "<style scoped>\n",
       "    .dataframe tbody tr th:only-of-type {\n",
       "        vertical-align: middle;\n",
       "    }\n",
       "\n",
       "    .dataframe tbody tr th {\n",
       "        vertical-align: top;\n",
       "    }\n",
       "\n",
       "    .dataframe thead th {\n",
       "        text-align: right;\n",
       "    }\n",
       "</style>\n",
       "<table border=\"1\" class=\"dataframe\">\n",
       "  <thead>\n",
       "    <tr style=\"text-align: right;\">\n",
       "      <th></th>\n",
       "      <th>ingredient</th>\n",
       "      <th>substitute</th>\n",
       "    </tr>\n",
       "  </thead>\n",
       "  <tbody>\n",
       "    <tr>\n",
       "      <th>0</th>\n",
       "      <td>shellfish</td>\n",
       "      <td>BeLeaf: Plant-based shrimp</td>\n",
       "    </tr>\n",
       "    <tr>\n",
       "      <th>1</th>\n",
       "      <td>shellfish</td>\n",
       "      <td>Gardein: Fish-less filets and mini crab-less c...</td>\n",
       "    </tr>\n",
       "    <tr>\n",
       "      <th>2</th>\n",
       "      <td>shellfish</td>\n",
       "      <td>Good Catch: Fish-free tuna, crab cakes, fish-f...</td>\n",
       "    </tr>\n",
       "    <tr>\n",
       "      <th>3</th>\n",
       "      <td>shellfish</td>\n",
       "      <td>Jinka: Plant-based tuna</td>\n",
       "    </tr>\n",
       "    <tr>\n",
       "      <th>4</th>\n",
       "      <td>shellfish</td>\n",
       "      <td>Loma Linda: Plant-based tuna</td>\n",
       "    </tr>\n",
       "    <tr>\n",
       "      <th>5</th>\n",
       "      <td>shellfish</td>\n",
       "      <td>New Wave: Plant-based shrimp</td>\n",
       "    </tr>\n",
       "    <tr>\n",
       "      <th>6</th>\n",
       "      <td>shellfish</td>\n",
       "      <td>Ocean Hugger Foods: Plant-based “raw” ahi</td>\n",
       "    </tr>\n",
       "    <tr>\n",
       "      <th>7</th>\n",
       "      <td>shellfish</td>\n",
       "      <td>Quorn: Fish-less sticks</td>\n",
       "    </tr>\n",
       "    <tr>\n",
       "      <th>8</th>\n",
       "      <td>shellfish</td>\n",
       "      <td>Sophie’s Kitchen: Plant-based shrimp, smoked s...</td>\n",
       "    </tr>\n",
       "  </tbody>\n",
       "</table>\n",
       "</div>"
      ],
      "text/plain": [
       "  ingredient                                         substitute\n",
       "0  shellfish                         BeLeaf: Plant-based shrimp\n",
       "1  shellfish  Gardein: Fish-less filets and mini crab-less c...\n",
       "2  shellfish  Good Catch: Fish-free tuna, crab cakes, fish-f...\n",
       "3  shellfish                            Jinka: Plant-based tuna\n",
       "4  shellfish                       Loma Linda: Plant-based tuna\n",
       "5  shellfish                       New Wave: Plant-based shrimp\n",
       "6  shellfish          Ocean Hugger Foods: Plant-based “raw” ahi\n",
       "7  shellfish                            Quorn: Fish-less sticks\n",
       "8  shellfish  Sophie’s Kitchen: Plant-based shrimp, smoked s..."
      ]
     },
     "execution_count": 54,
     "metadata": {},
     "output_type": "execute_result"
    }
   ],
   "source": [
    "shellfish_substitutes_df = pd.DataFrame(shellfish_substitutes)\n",
    "shellfish_substitutes_df.rename(columns={0: \"substitute\"}, inplace=True)\n",
    "ingredient = \"shellfish\"\n",
    "shellfish_substitutes_df[\"ingredient\"] = ingredient\n",
    "shellfish_substitutes_df = shellfish_substitutes_df[[\"ingredient\", \"substitute\"]]\n",
    "shellfish_substitutes_df"
   ]
  },
  {
   "cell_type": "code",
   "execution_count": 55,
   "metadata": {},
   "outputs": [],
   "source": [
    "shellfish_substitutes_df.to_csv(\"data/shellfish_substitutes.csv\")"
   ]
  },
  {
   "cell_type": "code",
   "execution_count": null,
   "metadata": {},
   "outputs": [],
   "source": []
  }
 ],
 "metadata": {
  "kernelspec": {
   "display_name": "Python [conda env:PythonData] *",
   "language": "python",
   "name": "conda-env-PythonData-py"
  },
  "language_info": {
   "codemirror_mode": {
    "name": "ipython",
    "version": 3
   },
   "file_extension": ".py",
   "mimetype": "text/x-python",
   "name": "python",
   "nbconvert_exporter": "python",
   "pygments_lexer": "ipython3",
   "version": "3.6.10"
  }
 },
 "nbformat": 4,
 "nbformat_minor": 4
}
