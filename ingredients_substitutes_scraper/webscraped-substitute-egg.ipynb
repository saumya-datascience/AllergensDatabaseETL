{
 "cells": [
  {
   "cell_type": "code",
   "execution_count": 1,
   "metadata": {},
   "outputs": [],
   "source": [
    "# Dependencies\n",
    "from bs4 import BeautifulSoup\n",
    "import requests\n",
    "import pandas as pd\n",
    "from time import sleep"
   ]
  },
  {
   "cell_type": "code",
   "execution_count": 2,
   "metadata": {},
   "outputs": [],
   "source": [
    "url='https://www.medicalnewstoday.com/articles/egg-substitutes#list-of-substitutes'\n",
    "response=requests.get(url)"
   ]
  },
  {
   "cell_type": "code",
   "execution_count": 3,
   "metadata": {},
   "outputs": [],
   "source": [
    "soup = BeautifulSoup(response.text, 'html.parser')"
   ]
  },
  {
   "cell_type": "code",
   "execution_count": 4,
   "metadata": {},
   "outputs": [],
   "source": [
    "#extract the \"h3 and just get the contents in a list\"\n",
    "resultSet = soup.find_all(\"h3\")\n",
    "stats = []\n",
    "for result in resultSet:\n",
    "    stats.append(result.contents[0])"
   ]
  },
  {
   "cell_type": "code",
   "execution_count": 5,
   "metadata": {},
   "outputs": [
    {
     "name": "stdout",
     "output_type": "stream",
     "text": [
      "['1. Mashed banana', '2. Applesauce', '3. Fruit puree ', '4. Avocado', '5. Gelatin', '6. Xanthan gum', '7. Vegetable oil and baking powder ', '8. Margarine', '9. Flaxseeds', '10. Chia seeds', '11. Seeds and baking powder', '12. Powdered egg replacements', '13. Chickpea flour', '14. Firm tofu', '15. White beans', '16. Scrambled tofu', 'Related Coverage']\n"
     ]
    }
   ],
   "source": [
    "print(stats)"
   ]
  },
  {
   "cell_type": "code",
   "execution_count": 6,
   "metadata": {},
   "outputs": [],
   "source": [
    "newlist=stats.pop(-1)"
   ]
  },
  {
   "cell_type": "code",
   "execution_count": 7,
   "metadata": {},
   "outputs": [
    {
     "name": "stdout",
     "output_type": "stream",
     "text": [
      "[' Mashed banana', ' Applesauce', ' Fruit puree ', ' Avocado', ' Gelatin', ' Xanthan gum', ' Vegetable oil and baking powder ', ' Margarine', ' Flaxseeds', ' Chia seeds', ' Seeds and baking powder', ' Powdered egg replacements', ' Chickpea flour', ' Firm tofu', ' White beans', ' Scrambled tofu']\n"
     ]
    }
   ],
   "source": [
    "final_list=[i.split(\".\",1)[1] for i in stats]\n",
    "print(final_list)"
   ]
  },
  {
   "cell_type": "code",
   "execution_count": 8,
   "metadata": {},
   "outputs": [],
   "source": [
    "#creating a dataframe of all subs\n",
    "egg_subs_df=pd.DataFrame(final_list)\n",
    "#creating a column sunstitute\n",
    "egg_subs_df.rename(columns={0: \"substitute\"}, inplace=True)\n",
    "#adding another column with name ingredient\n",
    "ingredient = \"egg\"\n",
    "egg_subs_df[\"ingredient\"] = ingredient\n",
    "#changing the order of the columns\n",
    "egg_subs_df=egg_subs_df[[\"ingredient\",\"substitute\"]]"
   ]
  },
  {
   "cell_type": "code",
   "execution_count": 9,
   "metadata": {},
   "outputs": [
    {
     "data": {
      "text/html": [
       "<div>\n",
       "<style scoped>\n",
       "    .dataframe tbody tr th:only-of-type {\n",
       "        vertical-align: middle;\n",
       "    }\n",
       "\n",
       "    .dataframe tbody tr th {\n",
       "        vertical-align: top;\n",
       "    }\n",
       "\n",
       "    .dataframe thead th {\n",
       "        text-align: right;\n",
       "    }\n",
       "</style>\n",
       "<table border=\"1\" class=\"dataframe\">\n",
       "  <thead>\n",
       "    <tr style=\"text-align: right;\">\n",
       "      <th></th>\n",
       "      <th>ingredient</th>\n",
       "      <th>substitute</th>\n",
       "    </tr>\n",
       "  </thead>\n",
       "  <tbody>\n",
       "    <tr>\n",
       "      <th>0</th>\n",
       "      <td>egg</td>\n",
       "      <td>Mashed banana</td>\n",
       "    </tr>\n",
       "    <tr>\n",
       "      <th>1</th>\n",
       "      <td>egg</td>\n",
       "      <td>Applesauce</td>\n",
       "    </tr>\n",
       "    <tr>\n",
       "      <th>2</th>\n",
       "      <td>egg</td>\n",
       "      <td>Fruit puree</td>\n",
       "    </tr>\n",
       "    <tr>\n",
       "      <th>3</th>\n",
       "      <td>egg</td>\n",
       "      <td>Avocado</td>\n",
       "    </tr>\n",
       "    <tr>\n",
       "      <th>4</th>\n",
       "      <td>egg</td>\n",
       "      <td>Gelatin</td>\n",
       "    </tr>\n",
       "    <tr>\n",
       "      <th>5</th>\n",
       "      <td>egg</td>\n",
       "      <td>Xanthan gum</td>\n",
       "    </tr>\n",
       "    <tr>\n",
       "      <th>6</th>\n",
       "      <td>egg</td>\n",
       "      <td>Vegetable oil and baking powder</td>\n",
       "    </tr>\n",
       "    <tr>\n",
       "      <th>7</th>\n",
       "      <td>egg</td>\n",
       "      <td>Margarine</td>\n",
       "    </tr>\n",
       "    <tr>\n",
       "      <th>8</th>\n",
       "      <td>egg</td>\n",
       "      <td>Flaxseeds</td>\n",
       "    </tr>\n",
       "    <tr>\n",
       "      <th>9</th>\n",
       "      <td>egg</td>\n",
       "      <td>Chia seeds</td>\n",
       "    </tr>\n",
       "    <tr>\n",
       "      <th>10</th>\n",
       "      <td>egg</td>\n",
       "      <td>Seeds and baking powder</td>\n",
       "    </tr>\n",
       "    <tr>\n",
       "      <th>11</th>\n",
       "      <td>egg</td>\n",
       "      <td>Powdered egg replacements</td>\n",
       "    </tr>\n",
       "    <tr>\n",
       "      <th>12</th>\n",
       "      <td>egg</td>\n",
       "      <td>Chickpea flour</td>\n",
       "    </tr>\n",
       "    <tr>\n",
       "      <th>13</th>\n",
       "      <td>egg</td>\n",
       "      <td>Firm tofu</td>\n",
       "    </tr>\n",
       "    <tr>\n",
       "      <th>14</th>\n",
       "      <td>egg</td>\n",
       "      <td>White beans</td>\n",
       "    </tr>\n",
       "    <tr>\n",
       "      <th>15</th>\n",
       "      <td>egg</td>\n",
       "      <td>Scrambled tofu</td>\n",
       "    </tr>\n",
       "  </tbody>\n",
       "</table>\n",
       "</div>"
      ],
      "text/plain": [
       "   ingredient                         substitute\n",
       "0         egg                      Mashed banana\n",
       "1         egg                         Applesauce\n",
       "2         egg                       Fruit puree \n",
       "3         egg                            Avocado\n",
       "4         egg                            Gelatin\n",
       "5         egg                        Xanthan gum\n",
       "6         egg   Vegetable oil and baking powder \n",
       "7         egg                          Margarine\n",
       "8         egg                          Flaxseeds\n",
       "9         egg                         Chia seeds\n",
       "10        egg            Seeds and baking powder\n",
       "11        egg          Powdered egg replacements\n",
       "12        egg                     Chickpea flour\n",
       "13        egg                          Firm tofu\n",
       "14        egg                        White beans\n",
       "15        egg                     Scrambled tofu"
      ]
     },
     "execution_count": 9,
     "metadata": {},
     "output_type": "execute_result"
    }
   ],
   "source": [
    "egg_subs_df"
   ]
  },
  {
   "cell_type": "code",
   "execution_count": null,
   "metadata": {},
   "outputs": [],
   "source": [
    "egg_subs_df.to_csv(\"egg_subs.csv\")"
   ]
  },
  {
   "cell_type": "code",
   "execution_count": null,
   "metadata": {},
   "outputs": [],
   "source": []
  }
 ],
 "metadata": {
  "kernelspec": {
   "display_name": "Python [conda env:PythonData] *",
   "language": "python",
   "name": "conda-env-PythonData-py"
  },
  "language_info": {
   "codemirror_mode": {
    "name": "ipython",
    "version": 3
   },
   "file_extension": ".py",
   "mimetype": "text/x-python",
   "name": "python",
   "nbconvert_exporter": "python",
   "pygments_lexer": "ipython3",
   "version": "3.6.10"
  }
 },
 "nbformat": 4,
 "nbformat_minor": 4
}
