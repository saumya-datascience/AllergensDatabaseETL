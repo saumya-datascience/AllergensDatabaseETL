{
 "cells": [
  {
   "cell_type": "code",
   "execution_count": null,
   "metadata": {},
   "outputs": [],
   "source": [
    "import pandas as pd\n",
    "import requests\n",
    "from bs4 import BeautifulSoup as bs"
   ]
  },
  {
   "cell_type": "code",
   "execution_count": null,
   "metadata": {},
   "outputs": [],
   "source": [
    "url = \"https://www.verywellhealth.com/food-and-ingredients-to-avoid-on-a-soy-free-diet-1324000\"\n",
    "url_path = requests.get(url)"
   ]
  },
  {
   "cell_type": "code",
   "execution_count": null,
   "metadata": {},
   "outputs": [],
   "source": [
    "soup = bs(url_path.content)\n",
    "# soup"
   ]
  },
  {
   "cell_type": "code",
   "execution_count": null,
   "metadata": {},
   "outputs": [],
   "source": [
    "soybean_substitutes = []\n",
    "for strong in soup.find_all(\"strong\"):\n",
    "    soybean_substitutes.append(strong.text)\n",
    "soybean_substitutes"
   ]
  },
  {
   "cell_type": "code",
   "execution_count": null,
   "metadata": {},
   "outputs": [],
   "source": [
    "soybean_substitutes_df = pd.DataFrame(soybean_substitutes)\n",
    "soybean_substitutes_df.rename(columns={0: \"substitute\"}, inplace=True)\n",
    "ingredient = \"soybean\"\n",
    "soybean_substitutes_df[\"ingredient\"] = ingredient\n",
    "soybean_substitutes_df = soybean_substitutes_df[[\"ingredient\", \"substitute\"]]\n",
    "soybean_substitutes_df"
   ]
  },
  {
   "cell_type": "code",
   "execution_count": null,
   "metadata": {},
   "outputs": [],
   "source": [
    "soybean_substitutes_df.to_csv(\"data/soybean_substitute.csv\")"
   ]
  },
  {
   "cell_type": "code",
   "execution_count": null,
   "metadata": {},
   "outputs": [],
   "source": []
  }
 ],
 "metadata": {
  "kernelspec": {
   "display_name": "Python [conda env:PythonData] *",
   "language": "python",
   "name": "conda-env-PythonData-py"
  },
  "language_info": {
   "codemirror_mode": {
    "name": "ipython",
    "version": 3
   },
   "file_extension": ".py",
   "mimetype": "text/x-python",
   "name": "python",
   "nbconvert_exporter": "python",
   "pygments_lexer": "ipython3",
   "version": "3.6.10"
  }
 },
 "nbformat": 4,
 "nbformat_minor": 4
}
