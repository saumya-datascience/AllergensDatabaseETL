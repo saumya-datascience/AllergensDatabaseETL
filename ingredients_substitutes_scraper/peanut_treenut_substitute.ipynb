{
 "cells": [
  {
   "cell_type": "code",
   "execution_count": 7,
   "metadata": {},
   "outputs": [],
   "source": [
    "import pandas as pd\n",
    "import requests\n",
    "from bs4 import BeautifulSoup as bs\n",
    "import re\n"
   ]
  },
  {
   "cell_type": "code",
   "execution_count": 8,
   "metadata": {},
   "outputs": [],
   "source": [
    "url = \"https://thefitcookie.com/healthy-nut-alternatives/\"\n",
    "url_path = requests.get(url)"
   ]
  },
  {
   "cell_type": "code",
   "execution_count": 9,
   "metadata": {},
   "outputs": [],
   "source": [
    "soup = bs(url_path.content)"
   ]
  },
  {
   "cell_type": "code",
   "execution_count": 10,
   "metadata": {},
   "outputs": [
    {
     "data": {
      "text/plain": [
       "12"
      ]
     },
     "execution_count": 10,
     "metadata": {},
     "output_type": "execute_result"
    }
   ],
   "source": [
    "ul_list = soup.find_all(\"ul\")\n",
    "len(ul_list)"
   ]
  },
  {
   "cell_type": "code",
   "execution_count": 24,
   "metadata": {},
   "outputs": [],
   "source": [
    "#firstH2 = soup.find('h2') # Start here\n",
    "#uls = []\n",
    "#for nextSibling in firstH2.findNextSiblings():\n",
    "#  if nextSibling.name == 'h2':\n",
    "#        breakre. sub()\n",
    "#  if nextSibling.name == 'ul':\n",
    "#        uls.append(nextSibling)\n",
    "#        print (uls)\n",
    "result=soup.find(\"div\",class_=\"entry-content\")      \n",
    "        "
   ]
  },
  {
   "cell_type": "code",
   "execution_count": 25,
   "metadata": {},
   "outputs": [
    {
     "name": "stdout",
     "output_type": "stream",
     "text": [
      "Sesame seeds (and Tahini)Sunflower seeds (and SunButter)Pumpkin and squash seeds (aka pepitas and pumpkin seed butter)Hemp seeds and hemp hearts (and hemp butter)Watermelon seeds (you can buy these roasted online)Chia seeds (fine consumed whole)Flax seeds (should be ground first to get the benefits)Pomegranate seeds (aka arils)Papaya seeds (I haven’t tried this one yet!)\n"
     ]
    }
   ],
   "source": [
    "value=result.ul.text\n",
    "print(value)\n"
   ]
  },
  {
   "cell_type": "code",
   "execution_count": 26,
   "metadata": {},
   "outputs": [
    {
     "name": "stdout",
     "output_type": "stream",
     "text": [
      "['Sesame seeds ', 'and Tahini', 'Sunflower seeds ', 'and SunButter', 'Pumpkin and squash seeds ', 'aka pepitas and pumpkin seed butter', 'Hemp seeds and hemp hearts ', 'and hemp butter', 'Watermelon seeds ', 'you can buy these roasted online', 'Chia seeds ', 'fine consumed whole', 'Flax seeds ', 'should be ground first to get the benefits', 'Pomegranate seeds ', 'aka arils', 'Papaya seeds ', 'I haven’t tried this one yet!', '']\n"
     ]
    }
   ],
   "source": [
    "list=re.split(\"[()]\", value)\n",
    "print(list)\n",
    "\n",
    "\n",
    "\n"
   ]
  },
  {
   "cell_type": "code",
   "execution_count": 27,
   "metadata": {},
   "outputs": [
    {
     "name": "stdout",
     "output_type": "stream",
     "text": [
      "['Sesame seeds ', 'Sunflower seeds ', 'Pumpkin and squash seeds ', 'Hemp seeds and hemp hearts ', 'Watermelon seeds ', 'Chia seeds ', 'Flax seeds ', 'Pomegranate seeds ', 'Papaya seeds ', '']\n"
     ]
    },
    {
     "data": {
      "text/plain": [
       "''"
      ]
     },
     "execution_count": 27,
     "metadata": {},
     "output_type": "execute_result"
    }
   ],
   "source": [
    "final_list=[list[i] for i in range(len(list)) if i % 2 == 0]\n",
    "print(final_list)\n",
    "final_list.pop(-1)"
   ]
  },
  {
   "cell_type": "code",
   "execution_count": 29,
   "metadata": {},
   "outputs": [],
   "source": [
    "#creating a dataframe of all subs\n",
    "treenut_sub_df=pd.DataFrame(final_list)\n",
    "#creating a column sunstitute\n",
    "treenut_sub_df.rename(columns={0: \"substitute\"}, inplace=True)\n",
    "#adding another column with name ingredient\n",
    "ingredient = \"treenut\"\n",
    "treenut_sub_df[\"ingredient\"] = ingredient\n",
    "#changing the order of the columns\n",
    "treenut_sub_df=treenut_sub_df[[\"ingredient\",\"substitute\"]]"
   ]
  },
  {
   "cell_type": "code",
   "execution_count": 30,
   "metadata": {},
   "outputs": [
    {
     "data": {
      "text/html": [
       "<div>\n",
       "<style scoped>\n",
       "    .dataframe tbody tr th:only-of-type {\n",
       "        vertical-align: middle;\n",
       "    }\n",
       "\n",
       "    .dataframe tbody tr th {\n",
       "        vertical-align: top;\n",
       "    }\n",
       "\n",
       "    .dataframe thead th {\n",
       "        text-align: right;\n",
       "    }\n",
       "</style>\n",
       "<table border=\"1\" class=\"dataframe\">\n",
       "  <thead>\n",
       "    <tr style=\"text-align: right;\">\n",
       "      <th></th>\n",
       "      <th>ingredient</th>\n",
       "      <th>substitute</th>\n",
       "    </tr>\n",
       "  </thead>\n",
       "  <tbody>\n",
       "    <tr>\n",
       "      <th>0</th>\n",
       "      <td>treenut</td>\n",
       "      <td>Sesame seeds</td>\n",
       "    </tr>\n",
       "    <tr>\n",
       "      <th>1</th>\n",
       "      <td>treenut</td>\n",
       "      <td>Sunflower seeds</td>\n",
       "    </tr>\n",
       "    <tr>\n",
       "      <th>2</th>\n",
       "      <td>treenut</td>\n",
       "      <td>Pumpkin and squash seeds</td>\n",
       "    </tr>\n",
       "    <tr>\n",
       "      <th>3</th>\n",
       "      <td>treenut</td>\n",
       "      <td>Hemp seeds and hemp hearts</td>\n",
       "    </tr>\n",
       "    <tr>\n",
       "      <th>4</th>\n",
       "      <td>treenut</td>\n",
       "      <td>Watermelon seeds</td>\n",
       "    </tr>\n",
       "    <tr>\n",
       "      <th>5</th>\n",
       "      <td>treenut</td>\n",
       "      <td>Chia seeds</td>\n",
       "    </tr>\n",
       "    <tr>\n",
       "      <th>6</th>\n",
       "      <td>treenut</td>\n",
       "      <td>Flax seeds</td>\n",
       "    </tr>\n",
       "    <tr>\n",
       "      <th>7</th>\n",
       "      <td>treenut</td>\n",
       "      <td>Pomegranate seeds</td>\n",
       "    </tr>\n",
       "    <tr>\n",
       "      <th>8</th>\n",
       "      <td>treenut</td>\n",
       "      <td>Papaya seeds</td>\n",
       "    </tr>\n",
       "  </tbody>\n",
       "</table>\n",
       "</div>"
      ],
      "text/plain": [
       "  ingredient                   substitute\n",
       "0    treenut                Sesame seeds \n",
       "1    treenut             Sunflower seeds \n",
       "2    treenut    Pumpkin and squash seeds \n",
       "3    treenut  Hemp seeds and hemp hearts \n",
       "4    treenut            Watermelon seeds \n",
       "5    treenut                  Chia seeds \n",
       "6    treenut                  Flax seeds \n",
       "7    treenut           Pomegranate seeds \n",
       "8    treenut                Papaya seeds "
      ]
     },
     "execution_count": 30,
     "metadata": {},
     "output_type": "execute_result"
    }
   ],
   "source": [
    "treenut_sub_df"
   ]
  }
 ],
 "metadata": {
  "kernelspec": {
   "display_name": "Python [conda env:PythonData]",
   "language": "python",
   "name": "conda-env-PythonData-py"
  },
  "language_info": {
   "codemirror_mode": {
    "name": "ipython",
    "version": 3
   },
   "file_extension": ".py",
   "mimetype": "text/x-python",
   "name": "python",
   "nbconvert_exporter": "python",
   "pygments_lexer": "ipython3",
   "version": "3.6.10"
  }
 },
 "nbformat": 4,
 "nbformat_minor": 4
}
