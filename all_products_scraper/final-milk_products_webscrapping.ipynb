{
 "cells": [
  {
   "cell_type": "code",
   "execution_count": null,
   "metadata": {},
   "outputs": [],
   "source": [
    "# Dependencies\n",
    "from bs4 import BeautifulSoup\n",
    "import requests\n",
    "import pandas as pd\n",
    "from time import sleep"
   ]
  },
  {
   "cell_type": "code",
   "execution_count": null,
   "metadata": {},
   "outputs": [],
   "source": [
    "url='https://world.openfoodfacts.org/brand/goya/ingredients'\n",
    "response=requests.get(url)"
   ]
  },
  {
   "cell_type": "code",
   "execution_count": null,
   "metadata": {},
   "outputs": [],
   "source": [
    "soup = BeautifulSoup(response.text, 'html.parser')"
   ]
  },
  {
   "cell_type": "code",
   "execution_count": null,
   "metadata": {},
   "outputs": [],
   "source": [
    "#code to do the following\n",
    "#1.get all the ingredient list\n",
    "#2.get all the links to access the products\n",
    "\n",
    "\n",
    "link_list=[]\n",
    "ingredient_list=[]\n",
    "results = soup.find_all(\"a\", {'class':[\"tag known\",\"tag user_defined\"]})\n",
    "url='https://world.openfoodfacts.org'\n",
    "for result in results:\n",
    "    try:   \n",
    "        sleep(0.5)\n",
    "        ingredients=result.text\n",
    "        link= result[\"href\"]\n",
    "        print(link)\n",
    "        base_url=url+link\n",
    "        print(base_url)\n",
    "        link_list.append(base_url)\n",
    "        ingredient_list.append(ingredients)\n",
    "        \n",
    "    except:\n",
    "        pass"
   ]
  },
  {
   "cell_type": "code",
   "execution_count": null,
   "metadata": {},
   "outputs": [],
   "source": [
    "#getting all the values of ingredients having milk\n",
    "milk_list = [x for x in link_list if \"milk\" in x]\n",
    "milk_list"
   ]
  },
  {
   "cell_type": "code",
   "execution_count": null,
   "metadata": {},
   "outputs": [],
   "source": [
    "#getting all the product containing wheat and saving in wheat_link\n",
    "milk_dict={\"Ingredient\":[],\"Products\":[]}\n",
    "milkprolist=[]\n",
    "for link in milk_list:\n",
    "    try:\n",
    "        ingredient = link.split('/')[-1]\n",
    "        response=requests.get(link)\n",
    "        value_soup= BeautifulSoup(response.text, 'html.parser')\n",
    "        values=value_soup.find('div', id=\"search_results\").find_all('a')\n",
    "        for value in values:\n",
    "        #print(value)\n",
    "            #title=value[\"title\"]\n",
    "            milkprolist.append(value[\"title\"])\n",
    "            #print(milkprolist)\n",
    "        final_product_list = [i.replace(\"\\xa0\",\" \") for i in milkprolist]    \n",
    "        subset_dict[\"Ingredient\"].append(ingredient)\n",
    "        subset_dict[\"Products\"].append(milkprolist)\n",
    "        #pro_list=[]\n",
    "    except:\n",
    "        pass"
   ]
  },
  {
   "cell_type": "code",
   "execution_count": null,
   "metadata": {},
   "outputs": [],
   "source": [
    "#printing the dataframe to have a flatten list\n",
    "print(final_product_list)\n",
    "milk_df = pd.DataFrame(final_product_list)\n",
    "print(milk_df)\n",
    "milk_df.rename(columns={0: \"products\"}, inplace=True)\n",
    "ingredient = \"milk\"\n",
    "milk_df[\"ingredient\"] = ingredient\n",
    "milk_df = milk_df[[\"ingredient\", \"products\"]]\n",
    "\n",
    "milk_df"
   ]
  },
  {
   "cell_type": "code",
   "execution_count": null,
   "metadata": {},
   "outputs": [],
   "source": [
    "#remiving duplicates\n",
    "final_milk_df=milk_df.drop_duplicates()"
   ]
  },
  {
   "cell_type": "code",
   "execution_count": null,
   "metadata": {},
   "outputs": [],
   "source": [
    "final_milk_df.to_csv(\"milk-final.csv\")"
   ]
  }
 ],
 "metadata": {
  "kernelspec": {
   "display_name": "Python [conda env:PythonData] *",
   "language": "python",
   "name": "conda-env-PythonData-py"
  },
  "language_info": {
   "codemirror_mode": {
    "name": "ipython",
    "version": 3
   },
   "file_extension": ".py",
   "mimetype": "text/x-python",
   "name": "python",
   "nbconvert_exporter": "python",
   "pygments_lexer": "ipython3",
   "version": "3.6.10"
  }
 },
 "nbformat": 4,
 "nbformat_minor": 4
}
