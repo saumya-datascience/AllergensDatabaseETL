{
 "cells": [
  {
   "cell_type": "code",
   "execution_count": 1,
   "metadata": {},
   "outputs": [],
   "source": [
    "import requests\n",
    "from bs4 import BeautifulSoup as bs"
   ]
  },
  {
   "cell_type": "code",
   "execution_count": 2,
   "metadata": {},
   "outputs": [],
   "source": [
    "url = \"https://world.openfoodfacts.org/brand/goya/ingredients\"\n",
    "url_path = requests.get(url)"
   ]
  },
  {
   "cell_type": "code",
   "execution_count": 3,
   "metadata": {},
   "outputs": [],
   "source": [
    "soup = bs(url_path.content)"
   ]
  },
  {
   "cell_type": "code",
   "execution_count": 4,
   "metadata": {},
   "outputs": [],
   "source": [
    "td_ingredients = soup.body.find_all(\"td\")"
   ]
  },
  {
   "cell_type": "code",
   "execution_count": 5,
   "metadata": {},
   "outputs": [],
   "source": [
    "hrefs_links = []\n",
    "for tds in td_ingredients:\n",
    "    for a in tds.find_all('a', href=True): \n",
    "        if a.text:\n",
    "            hrefs_links.append(a['href'])\n",
    "# hrefs_links"
   ]
  },
  {
   "cell_type": "code",
   "execution_count": 6,
   "metadata": {},
   "outputs": [],
   "source": [
    "full_links = [\"https://world.openfoodfacts.org\" + i for i in hrefs_links]"
   ]
  },
  {
   "cell_type": "code",
   "execution_count": 18,
   "metadata": {},
   "outputs": [],
   "source": [
    "# full_links"
   ]
  },
  {
   "cell_type": "code",
   "execution_count": 17,
   "metadata": {},
   "outputs": [
    {
     "data": {
      "text/plain": [
       "1153"
      ]
     },
     "execution_count": 17,
     "metadata": {},
     "output_type": "execute_result"
    }
   ],
   "source": [
    "len(full_links)"
   ]
  },
  {
   "cell_type": "code",
   "execution_count": 8,
   "metadata": {},
   "outputs": [
    {
     "data": {
      "text/plain": [
       "['https://world.openfoodfacts.org/brand/goya/ingredient/fish',\n",
       " 'https://world.openfoodfacts.org/brand/goya/ingredient/oily-fish',\n",
       " 'https://world.openfoodfacts.org/brand/goya/ingredient/white-fish',\n",
       " 'https://world.openfoodfacts.org/brand/goya/ingredient/shellfish']"
      ]
     },
     "execution_count": 8,
     "metadata": {},
     "output_type": "execute_result"
    }
   ],
   "source": [
    "fish_links_notfinal = [x for x in full_links if \"fish\" in x]\n",
    "fish_links_notfinal"
   ]
  },
  {
   "cell_type": "code",
   "execution_count": 9,
   "metadata": {},
   "outputs": [
    {
     "data": {
      "text/plain": [
       "'https://world.openfoodfacts.org/brand/goya/ingredient/shellfish'"
      ]
     },
     "execution_count": 9,
     "metadata": {},
     "output_type": "execute_result"
    }
   ],
   "source": [
    "shellfish_links = fish_links_notfinal[-1]\n",
    "shellfish_links"
   ]
  },
  {
   "cell_type": "code",
   "execution_count": 10,
   "metadata": {},
   "outputs": [
    {
     "data": {
      "text/plain": [
       "['https://world.openfoodfacts.org/brand/goya/ingredient/fish',\n",
       " 'https://world.openfoodfacts.org/brand/goya/ingredient/oily-fish',\n",
       " 'https://world.openfoodfacts.org/brand/goya/ingredient/white-fish']"
      ]
     },
     "execution_count": 10,
     "metadata": {},
     "output_type": "execute_result"
    }
   ],
   "source": [
    "fish_links_final = fish_links_notfinal[:3]\n",
    "fish_links_final"
   ]
  },
  {
   "cell_type": "code",
   "execution_count": 11,
   "metadata": {},
   "outputs": [
    {
     "data": {
      "text/plain": [
       "['https://world.openfoodfacts.org/brand/goya/ingredient/egg',\n",
       " 'https://world.openfoodfacts.org/brand/goya/ingredient/egg-yolk',\n",
       " 'https://world.openfoodfacts.org/brand/goya/ingredient/eggs-sugar',\n",
       " 'https://world.openfoodfacts.org/brand/goya/ingredient/egg-white']"
      ]
     },
     "execution_count": 11,
     "metadata": {},
     "output_type": "execute_result"
    }
   ],
   "source": [
    "egg_links = [x for x in full_links if \"egg\" in x]\n",
    "egg_links"
   ]
  },
  {
   "cell_type": "code",
   "execution_count": 12,
   "metadata": {},
   "outputs": [
    {
     "data": {
      "text/plain": [
       "['https://world.openfoodfacts.org/brand/goya/ingredient/milk',\n",
       " 'https://world.openfoodfacts.org/brand/goya/ingredient/coconut-milk',\n",
       " 'https://world.openfoodfacts.org/brand/goya/ingredient/skimmed-milk',\n",
       " 'https://world.openfoodfacts.org/brand/goya/ingredient/milk-powder',\n",
       " 'https://world.openfoodfacts.org/brand/goya/ingredient/pasteurised-milk',\n",
       " 'https://world.openfoodfacts.org/brand/goya/ingredient/buttermilk',\n",
       " 'https://world.openfoodfacts.org/brand/goya/ingredient/skimmed-milk-powder',\n",
       " 'https://world.openfoodfacts.org/brand/goya/ingredient/milk-solids',\n",
       " 'https://world.openfoodfacts.org/brand/goya/ingredient/pasteurised-cow-s-milk',\n",
       " 'https://world.openfoodfacts.org/brand/goya/ingredient/cow-s-milk',\n",
       " 'https://world.openfoodfacts.org/brand/goya/ingredient/pasteurized-fluid-milk',\n",
       " 'https://world.openfoodfacts.org/brand/goya/ingredient/soured-milk',\n",
       " 'https://world.openfoodfacts.org/brand/goya/ingredient/pasteurized-cultured-milk-and-cream',\n",
       " 'https://world.openfoodfacts.org/brand/goya/ingredient/cultured-pasteurized-part-skim-milk',\n",
       " 'https://world.openfoodfacts.org/brand/goya/ingredient/pasteurized-manchega-sheep-s-milk',\n",
       " 'https://world.openfoodfacts.org/brand/goya/ingredient/cultured-pasteurized-milk',\n",
       " 'https://world.openfoodfacts.org/brand/goya/ingredient/milk-fondant',\n",
       " 'https://world.openfoodfacts.org/brand/goya/ingredient/nonfat-dry-milk-and-whey-solids',\n",
       " 'https://world.openfoodfacts.org/brand/goya/ingredient/whole-milk']"
      ]
     },
     "execution_count": 12,
     "metadata": {},
     "output_type": "execute_result"
    }
   ],
   "source": [
    "milk_links = [x for x in full_links if \"milk\" in x]\n",
    "milk_links"
   ]
  },
  {
   "cell_type": "code",
   "execution_count": 13,
   "metadata": {},
   "outputs": [
    {
     "data": {
      "text/plain": [
       "['https://world.openfoodfacts.org/brand/goya/ingredient/tree-nut']"
      ]
     },
     "execution_count": 13,
     "metadata": {},
     "output_type": "execute_result"
    }
   ],
   "source": [
    "treenut_links = [x for x in full_links if \"tree-nut\" in x]\n",
    "treenut_links"
   ]
  },
  {
   "cell_type": "code",
   "execution_count": 14,
   "metadata": {},
   "outputs": [
    {
     "data": {
      "text/plain": [
       "['https://world.openfoodfacts.org/brand/goya/ingredient/wheat',\n",
       " 'https://world.openfoodfacts.org/brand/goya/ingredient/wheat-flour',\n",
       " 'https://world.openfoodfacts.org/brand/goya/ingredient/fortified-wheat-flour',\n",
       " 'https://world.openfoodfacts.org/brand/goya/ingredient/wheat-gluten',\n",
       " 'https://world.openfoodfacts.org/brand/goya/ingredient/whole-wheat-flour',\n",
       " 'https://world.openfoodfacts.org/brand/goya/ingredient/corn-gluten-and-wheat-protein',\n",
       " 'https://world.openfoodfacts.org/brand/goya/ingredient/wheat-protein',\n",
       " 'https://world.openfoodfacts.org/brand/goya/ingredient/durum-wheat-flour',\n",
       " 'https://world.openfoodfacts.org/brand/goya/ingredient/malted-wheat-flour',\n",
       " 'https://world.openfoodfacts.org/brand/goya/ingredient/high-gluten-wheat-flour',\n",
       " 'https://world.openfoodfacts.org/brand/goya/ingredient/made-of-wheat-flour-and-veal-fat',\n",
       " 'https://world.openfoodfacts.org/brand/goya/ingredient/bleached-wheat-flour-enriched-with',\n",
       " 'https://world.openfoodfacts.org/brand/goya/ingredient/wheat-flour-enriched-with-iron']"
      ]
     },
     "execution_count": 14,
     "metadata": {},
     "output_type": "execute_result"
    }
   ],
   "source": [
    "wheat_links = [x for x in full_links if \"wheat\" in x]\n",
    "wheat_links"
   ]
  },
  {
   "cell_type": "code",
   "execution_count": 15,
   "metadata": {},
   "outputs": [
    {
     "data": {
      "text/plain": [
       "['https://world.openfoodfacts.org/brand/goya/ingredient/partially-hydrogenated-soybean-oil',\n",
       " 'https://world.openfoodfacts.org/brand/goya/ingredient/hydrogenated-and-interesterified-soybean-oil-and-palm-oil-with-tbhq-and-citric-acid-as-antioxidants-and-refined-palm-oil-with-tbhq',\n",
       " 'https://world.openfoodfacts.org/brand/goya/ingredient/soybean-and-cottonseed-and-corn-and-canola-oils',\n",
       " 'https://world.openfoodfacts.org/brand/goya/ingredient/interesterified-soybean-oil-and-palm-oil',\n",
       " 'https://world.openfoodfacts.org/brand/goya/ingredient/ripe-plantains-and-soybean-oil',\n",
       " 'https://world.openfoodfacts.org/brand/goya/ingredient/interesterified-soybean-oil-and-pal-oil',\n",
       " 'https://world.openfoodfacts.org/brand/goya/ingredient/partially-hydrogenated-cottonseed-and-soybean-oils',\n",
       " 'https://world.openfoodfacts.org/brand/goya/ingredient/interesterified-soybean-oil',\n",
       " 'https://world.openfoodfacts.org/brand/goya/ingredient/partially-hydrogenated-soybean',\n",
       " 'https://world.openfoodfacts.org/brand/goya/ingredient/soybean-oil-and',\n",
       " 'https://world.openfoodfacts.org/brand/goya/ingredient/intersterified-soybean-oil-and-cottonseed-oil-and-palm-oil',\n",
       " 'https://world.openfoodfacts.org/brand/goya/ingredient/partially-hydrogenated-cotton-seed-and-soybean-oils',\n",
       " 'https://world.openfoodfacts.org/brand/goya/ingredient/partially-hydrogenated-soybean-and-cottonseed-oil']"
      ]
     },
     "execution_count": 15,
     "metadata": {},
     "output_type": "execute_result"
    }
   ],
   "source": [
    "soybean_links = [x for x in full_links if \"soybean\" in x]\n",
    "soybean_links"
   ]
  },
  {
   "cell_type": "code",
   "execution_count": 16,
   "metadata": {},
   "outputs": [
    {
     "data": {
      "text/plain": [
       "['https://world.openfoodfacts.org/brand/goya/ingredient/peanut']"
      ]
     },
     "execution_count": 16,
     "metadata": {},
     "output_type": "execute_result"
    }
   ],
   "source": [
    "peanut_links = [x for x in full_links if \"peanut\" in x]\n",
    "peanut_links"
   ]
  },
  {
   "cell_type": "code",
   "execution_count": null,
   "metadata": {},
   "outputs": [],
   "source": []
  }
 ],
 "metadata": {
  "kernelspec": {
   "display_name": "Python [conda env:PythonData] *",
   "language": "python",
   "name": "conda-env-PythonData-py"
  },
  "language_info": {
   "codemirror_mode": {
    "name": "ipython",
    "version": 3
   },
   "file_extension": ".py",
   "mimetype": "text/x-python",
   "name": "python",
   "nbconvert_exporter": "python",
   "pygments_lexer": "ipython3",
   "version": "3.6.10"
  }
 },
 "nbformat": 4,
 "nbformat_minor": 4
}
