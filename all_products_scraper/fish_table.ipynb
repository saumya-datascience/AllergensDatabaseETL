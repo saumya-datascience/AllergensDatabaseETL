{
 "cells": [
  {
   "cell_type": "code",
   "execution_count": 1,
   "metadata": {},
   "outputs": [],
   "source": [
    "import pandas as pd\n",
    "import requests\n",
    "from bs4 import BeautifulSoup as bs"
   ]
  },
  {
   "cell_type": "code",
   "execution_count": 2,
   "metadata": {},
   "outputs": [],
   "source": [
    "from allergy_links import fish_links\n",
    "from functions import get_products, flatten_list"
   ]
  },
  {
   "cell_type": "code",
   "execution_count": 3,
   "metadata": {},
   "outputs": [
    {
     "data": {
      "text/plain": [
       "[['Croquettes - Goya',\n",
       "  'Coldfish - Goya',\n",
       "  'Goya, premium sardines in spicy oil',\n",
       "  'Premium Sardines In Olive Oil - Goya',\n",
       "  'Select Spanish Olives Stuffed With Minced Anchovies - Goya',\n",
       "  'Premium sardines with lemon in oil - Goya',\n",
       "  'Sardines In Tomato Sauce - Goya',\n",
       "  'Sardines in tomato sauce, tomato sauce - Goya',\n",
       "  'Goya, sardines in vegetable oil',\n",
       "  'Goya, codfish in biscayan sauce',\n",
       "  'Stuffed olives, minced tuna - Goya',\n",
       "  'Goya, bacalaitos codfish fritter mix',\n",
       "  'Goya, tinapa, sardines in tomato sauce',\n",
       "  'Goya, tinapa, sardines in hot tomato sauce, hot',\n",
       "  'Goya, macarela'],\n",
       " ['Goya, premium sardines in spicy oil',\n",
       "  'Premium Sardines In Olive Oil - Goya',\n",
       "  'Select Spanish Olives Stuffed With Minced Anchovies - Goya',\n",
       "  'Premium sardines with lemon in oil - Goya',\n",
       "  'Sardines In Tomato Sauce - Goya',\n",
       "  'Sardines in tomato sauce, tomato sauce - Goya',\n",
       "  'Goya, sardines in vegetable oil',\n",
       "  'Goya, tinapa, sardines in tomato sauce',\n",
       "  'Goya, tinapa, sardines in hot tomato sauce, hot',\n",
       "  'Goya, macarela'],\n",
       " ['Croquettes - Goya',\n",
       "  'Coldfish - Goya',\n",
       "  'Goya, codfish in biscayan sauce',\n",
       "  'Goya, bacalaitos codfish fritter mix']]"
      ]
     },
     "execution_count": 3,
     "metadata": {},
     "output_type": "execute_result"
    }
   ],
   "source": [
    "all_fish = [get_products(i) for i in fish_links]\n",
    "all_fish"
   ]
  },
  {
   "cell_type": "code",
   "execution_count": 4,
   "metadata": {},
   "outputs": [
    {
     "data": {
      "text/plain": [
       "['Croquettes - Goya',\n",
       " 'Coldfish - Goya',\n",
       " 'Goya, premium sardines in spicy oil',\n",
       " 'Premium Sardines In Olive Oil - Goya',\n",
       " 'Select Spanish Olives Stuffed With Minced Anchovies - Goya',\n",
       " 'Premium sardines with lemon in oil - Goya',\n",
       " 'Sardines In Tomato Sauce - Goya',\n",
       " 'Sardines in tomato sauce, tomato sauce - Goya',\n",
       " 'Goya, sardines in vegetable oil',\n",
       " 'Goya, codfish in biscayan sauce',\n",
       " 'Stuffed olives, minced tuna - Goya',\n",
       " 'Goya, bacalaitos codfish fritter mix',\n",
       " 'Goya, tinapa, sardines in tomato sauce',\n",
       " 'Goya, tinapa, sardines in hot tomato sauce, hot',\n",
       " 'Goya, macarela',\n",
       " 'Goya, premium sardines in spicy oil',\n",
       " 'Premium Sardines In Olive Oil - Goya',\n",
       " 'Select Spanish Olives Stuffed With Minced Anchovies - Goya',\n",
       " 'Premium sardines with lemon in oil - Goya',\n",
       " 'Sardines In Tomato Sauce - Goya',\n",
       " 'Sardines in tomato sauce, tomato sauce - Goya',\n",
       " 'Goya, sardines in vegetable oil',\n",
       " 'Goya, tinapa, sardines in tomato sauce',\n",
       " 'Goya, tinapa, sardines in hot tomato sauce, hot',\n",
       " 'Goya, macarela',\n",
       " 'Croquettes - Goya',\n",
       " 'Coldfish - Goya',\n",
       " 'Goya, codfish in biscayan sauce',\n",
       " 'Goya, bacalaitos codfish fritter mix']"
      ]
     },
     "execution_count": 4,
     "metadata": {},
     "output_type": "execute_result"
    }
   ],
   "source": [
    "all_fish_list = flatten_list(all_fish)\n",
    "all_fish_list"
   ]
  },
  {
   "cell_type": "code",
   "execution_count": 5,
   "metadata": {},
   "outputs": [
    {
     "data": {
      "text/html": [
       "<div>\n",
       "<style scoped>\n",
       "    .dataframe tbody tr th:only-of-type {\n",
       "        vertical-align: middle;\n",
       "    }\n",
       "\n",
       "    .dataframe tbody tr th {\n",
       "        vertical-align: top;\n",
       "    }\n",
       "\n",
       "    .dataframe thead th {\n",
       "        text-align: right;\n",
       "    }\n",
       "</style>\n",
       "<table border=\"1\" class=\"dataframe\">\n",
       "  <thead>\n",
       "    <tr style=\"text-align: right;\">\n",
       "      <th></th>\n",
       "      <th>products</th>\n",
       "      <th>ingredient</th>\n",
       "    </tr>\n",
       "  </thead>\n",
       "  <tbody>\n",
       "    <tr>\n",
       "      <th>0</th>\n",
       "      <td>Croquettes - Goya</td>\n",
       "      <td>fish</td>\n",
       "    </tr>\n",
       "    <tr>\n",
       "      <th>1</th>\n",
       "      <td>Coldfish - Goya</td>\n",
       "      <td>fish</td>\n",
       "    </tr>\n",
       "    <tr>\n",
       "      <th>2</th>\n",
       "      <td>Goya, premium sardines in spicy oil</td>\n",
       "      <td>fish</td>\n",
       "    </tr>\n",
       "    <tr>\n",
       "      <th>3</th>\n",
       "      <td>Premium Sardines In Olive Oil - Goya</td>\n",
       "      <td>fish</td>\n",
       "    </tr>\n",
       "    <tr>\n",
       "      <th>4</th>\n",
       "      <td>Select Spanish Olives Stuffed With Minced Anch...</td>\n",
       "      <td>fish</td>\n",
       "    </tr>\n",
       "  </tbody>\n",
       "</table>\n",
       "</div>"
      ],
      "text/plain": [
       "                                            products ingredient\n",
       "0                                  Croquettes - Goya       fish\n",
       "1                                    Coldfish - Goya       fish\n",
       "2                Goya, premium sardines in spicy oil       fish\n",
       "3               Premium Sardines In Olive Oil - Goya       fish\n",
       "4  Select Spanish Olives Stuffed With Minced Anch...       fish"
      ]
     },
     "execution_count": 5,
     "metadata": {},
     "output_type": "execute_result"
    }
   ],
   "source": [
    "fish_df = pd.DataFrame(all_fish_list)\n",
    "fish_df.rename(columns={0: \"products\"}, inplace=True)\n",
    "ingredient = \"fish\"\n",
    "fish_df[\"ingredient\"] = ingredient\n",
    "fish_df.head()"
   ]
  },
  {
   "cell_type": "code",
   "execution_count": 8,
   "metadata": {},
   "outputs": [
    {
     "data": {
      "text/html": [
       "<div>\n",
       "<style scoped>\n",
       "    .dataframe tbody tr th:only-of-type {\n",
       "        vertical-align: middle;\n",
       "    }\n",
       "\n",
       "    .dataframe tbody tr th {\n",
       "        vertical-align: top;\n",
       "    }\n",
       "\n",
       "    .dataframe thead th {\n",
       "        text-align: right;\n",
       "    }\n",
       "</style>\n",
       "<table border=\"1\" class=\"dataframe\">\n",
       "  <thead>\n",
       "    <tr style=\"text-align: right;\">\n",
       "      <th></th>\n",
       "      <th>ingredient</th>\n",
       "      <th>products</th>\n",
       "    </tr>\n",
       "  </thead>\n",
       "  <tbody>\n",
       "    <tr>\n",
       "      <th>0</th>\n",
       "      <td>fish</td>\n",
       "      <td>Croquettes - Goya</td>\n",
       "    </tr>\n",
       "    <tr>\n",
       "      <th>1</th>\n",
       "      <td>fish</td>\n",
       "      <td>Coldfish - Goya</td>\n",
       "    </tr>\n",
       "    <tr>\n",
       "      <th>2</th>\n",
       "      <td>fish</td>\n",
       "      <td>Goya, premium sardines in spicy oil</td>\n",
       "    </tr>\n",
       "    <tr>\n",
       "      <th>3</th>\n",
       "      <td>fish</td>\n",
       "      <td>Premium Sardines In Olive Oil - Goya</td>\n",
       "    </tr>\n",
       "    <tr>\n",
       "      <th>4</th>\n",
       "      <td>fish</td>\n",
       "      <td>Select Spanish Olives Stuffed With Minced Anch...</td>\n",
       "    </tr>\n",
       "  </tbody>\n",
       "</table>\n",
       "</div>"
      ],
      "text/plain": [
       "  ingredient                                           products\n",
       "0       fish                                  Croquettes - Goya\n",
       "1       fish                                    Coldfish - Goya\n",
       "2       fish                Goya, premium sardines in spicy oil\n",
       "3       fish               Premium Sardines In Olive Oil - Goya\n",
       "4       fish  Select Spanish Olives Stuffed With Minced Anch..."
      ]
     },
     "execution_count": 8,
     "metadata": {},
     "output_type": "execute_result"
    }
   ],
   "source": [
    "fish_df = fish_df[[\"ingredient\", \"products\"]]\n",
    "fish_df.head()"
   ]
  },
  {
   "cell_type": "code",
   "execution_count": 9,
   "metadata": {},
   "outputs": [],
   "source": [
    "final_fish_df = fish_df.drop_duplicates()"
   ]
  },
  {
   "cell_type": "code",
   "execution_count": 10,
   "metadata": {},
   "outputs": [
    {
     "data": {
      "text/html": [
       "<div>\n",
       "<style scoped>\n",
       "    .dataframe tbody tr th:only-of-type {\n",
       "        vertical-align: middle;\n",
       "    }\n",
       "\n",
       "    .dataframe tbody tr th {\n",
       "        vertical-align: top;\n",
       "    }\n",
       "\n",
       "    .dataframe thead th {\n",
       "        text-align: right;\n",
       "    }\n",
       "</style>\n",
       "<table border=\"1\" class=\"dataframe\">\n",
       "  <thead>\n",
       "    <tr style=\"text-align: right;\">\n",
       "      <th></th>\n",
       "      <th>ingredient</th>\n",
       "      <th>products</th>\n",
       "    </tr>\n",
       "  </thead>\n",
       "  <tbody>\n",
       "    <tr>\n",
       "      <th>0</th>\n",
       "      <td>fish</td>\n",
       "      <td>Croquettes - Goya</td>\n",
       "    </tr>\n",
       "    <tr>\n",
       "      <th>1</th>\n",
       "      <td>fish</td>\n",
       "      <td>Coldfish - Goya</td>\n",
       "    </tr>\n",
       "    <tr>\n",
       "      <th>2</th>\n",
       "      <td>fish</td>\n",
       "      <td>Goya, premium sardines in spicy oil</td>\n",
       "    </tr>\n",
       "    <tr>\n",
       "      <th>3</th>\n",
       "      <td>fish</td>\n",
       "      <td>Premium Sardines In Olive Oil - Goya</td>\n",
       "    </tr>\n",
       "    <tr>\n",
       "      <th>4</th>\n",
       "      <td>fish</td>\n",
       "      <td>Select Spanish Olives Stuffed With Minced Anch...</td>\n",
       "    </tr>\n",
       "    <tr>\n",
       "      <th>5</th>\n",
       "      <td>fish</td>\n",
       "      <td>Premium sardines with lemon in oil - Goya</td>\n",
       "    </tr>\n",
       "    <tr>\n",
       "      <th>6</th>\n",
       "      <td>fish</td>\n",
       "      <td>Sardines In Tomato Sauce - Goya</td>\n",
       "    </tr>\n",
       "    <tr>\n",
       "      <th>7</th>\n",
       "      <td>fish</td>\n",
       "      <td>Sardines in tomato sauce, tomato sauce - Goya</td>\n",
       "    </tr>\n",
       "    <tr>\n",
       "      <th>8</th>\n",
       "      <td>fish</td>\n",
       "      <td>Goya, sardines in vegetable oil</td>\n",
       "    </tr>\n",
       "    <tr>\n",
       "      <th>9</th>\n",
       "      <td>fish</td>\n",
       "      <td>Goya, codfish in biscayan sauce</td>\n",
       "    </tr>\n",
       "    <tr>\n",
       "      <th>10</th>\n",
       "      <td>fish</td>\n",
       "      <td>Stuffed olives, minced tuna - Goya</td>\n",
       "    </tr>\n",
       "    <tr>\n",
       "      <th>11</th>\n",
       "      <td>fish</td>\n",
       "      <td>Goya, bacalaitos codfish fritter mix</td>\n",
       "    </tr>\n",
       "    <tr>\n",
       "      <th>12</th>\n",
       "      <td>fish</td>\n",
       "      <td>Goya, tinapa, sardines in tomato sauce</td>\n",
       "    </tr>\n",
       "    <tr>\n",
       "      <th>13</th>\n",
       "      <td>fish</td>\n",
       "      <td>Goya, tinapa, sardines in hot tomato sauce, hot</td>\n",
       "    </tr>\n",
       "    <tr>\n",
       "      <th>14</th>\n",
       "      <td>fish</td>\n",
       "      <td>Goya, macarela</td>\n",
       "    </tr>\n",
       "  </tbody>\n",
       "</table>\n",
       "</div>"
      ],
      "text/plain": [
       "   ingredient                                           products\n",
       "0        fish                                  Croquettes - Goya\n",
       "1        fish                                    Coldfish - Goya\n",
       "2        fish                Goya, premium sardines in spicy oil\n",
       "3        fish               Premium Sardines In Olive Oil - Goya\n",
       "4        fish  Select Spanish Olives Stuffed With Minced Anch...\n",
       "5        fish          Premium sardines with lemon in oil - Goya\n",
       "6        fish                    Sardines In Tomato Sauce - Goya\n",
       "7        fish      Sardines in tomato sauce, tomato sauce - Goya\n",
       "8        fish                    Goya, sardines in vegetable oil\n",
       "9        fish                    Goya, codfish in biscayan sauce\n",
       "10       fish                 Stuffed olives, minced tuna - Goya\n",
       "11       fish               Goya, bacalaitos codfish fritter mix\n",
       "12       fish             Goya, tinapa, sardines in tomato sauce\n",
       "13       fish    Goya, tinapa, sardines in hot tomato sauce, hot\n",
       "14       fish                                     Goya, macarela"
      ]
     },
     "execution_count": 10,
     "metadata": {},
     "output_type": "execute_result"
    }
   ],
   "source": [
    "final_fish_df"
   ]
  },
  {
   "cell_type": "code",
   "execution_count": 11,
   "metadata": {},
   "outputs": [],
   "source": [
    "final_fish_df.to_csv(\"data/fish.csv\")"
   ]
  },
  {
   "cell_type": "code",
   "execution_count": null,
   "metadata": {},
   "outputs": [],
   "source": []
  }
 ],
 "metadata": {
  "kernelspec": {
   "display_name": "Python [conda env:PythonData] *",
   "language": "python",
   "name": "conda-env-PythonData-py"
  },
  "language_info": {
   "codemirror_mode": {
    "name": "ipython",
    "version": 3
   },
   "file_extension": ".py",
   "mimetype": "text/x-python",
   "name": "python",
   "nbconvert_exporter": "python",
   "pygments_lexer": "ipython3",
   "version": "3.6.10"
  }
 },
 "nbformat": 4,
 "nbformat_minor": 4
}
