{
 "cells": [
  {
   "cell_type": "code",
   "execution_count": 1,
   "metadata": {},
   "outputs": [],
   "source": [
    "import pandas as pd\n",
    "import requests\n",
    "from bs4 import BeautifulSoup as bs"
   ]
  },
  {
   "cell_type": "code",
   "execution_count": 2,
   "metadata": {},
   "outputs": [],
   "source": [
    "from allergy_links import egg_links\n",
    "from functions import get_products, flatten_list"
   ]
  },
  {
   "cell_type": "code",
   "execution_count": 3,
   "metadata": {},
   "outputs": [
    {
     "data": {
      "text/plain": [
       "[['Mayo-ketchup - Goya',\n",
       "  'Ham Croquettes - Goya',\n",
       "  'Spinach empanadas - Goya',\n",
       "  'Croquettes - Goya',\n",
       "  'Ham Croquettes - Goya',\n",
       "  'Authentic Style Rice Pilaf - Goya',\n",
       "  'Chicken Croquettes - Goya',\n",
       "  'Baked Beef Empanadas - Goya',\n",
       "  'Baked empanadas - Goya',\n",
       "  'Mayonnaise - Goya',\n",
       "  'Goya, latin style bread crumbs',\n",
       "  'Chicken Croquettes - Goya',\n",
       "  'Mexican Style Stuffed Peppers Rellenos - Goya'],\n",
       " ['Mayo-ketchup - Goya'],\n",
       " ['Tequenos South American Cheese Sticks - Goya'],\n",
       " ['Mexican Style Stuffed Peppers Rellenos - Goya']]"
      ]
     },
     "execution_count": 3,
     "metadata": {},
     "output_type": "execute_result"
    }
   ],
   "source": [
    "all_eggs = [get_products(i) for i in egg_links]\n",
    "all_eggs"
   ]
  },
  {
   "cell_type": "code",
   "execution_count": 4,
   "metadata": {},
   "outputs": [
    {
     "data": {
      "text/plain": [
       "['Mayo-ketchup - Goya',\n",
       " 'Ham Croquettes - Goya',\n",
       " 'Spinach empanadas - Goya',\n",
       " 'Croquettes - Goya',\n",
       " 'Ham Croquettes - Goya',\n",
       " 'Authentic Style Rice Pilaf - Goya',\n",
       " 'Chicken Croquettes - Goya',\n",
       " 'Baked Beef Empanadas - Goya',\n",
       " 'Baked empanadas - Goya',\n",
       " 'Mayonnaise - Goya',\n",
       " 'Goya, latin style bread crumbs',\n",
       " 'Chicken Croquettes - Goya',\n",
       " 'Mexican Style Stuffed Peppers Rellenos - Goya',\n",
       " 'Mayo-ketchup - Goya',\n",
       " 'Tequenos South American Cheese Sticks - Goya',\n",
       " 'Mexican Style Stuffed Peppers Rellenos - Goya']"
      ]
     },
     "execution_count": 4,
     "metadata": {},
     "output_type": "execute_result"
    }
   ],
   "source": [
    "all_eggs_list = flatten_list(all_eggs)\n",
    "all_eggs_list"
   ]
  },
  {
   "cell_type": "code",
   "execution_count": 10,
   "metadata": {},
   "outputs": [
    {
     "data": {
      "text/html": [
       "<div>\n",
       "<style scoped>\n",
       "    .dataframe tbody tr th:only-of-type {\n",
       "        vertical-align: middle;\n",
       "    }\n",
       "\n",
       "    .dataframe tbody tr th {\n",
       "        vertical-align: top;\n",
       "    }\n",
       "\n",
       "    .dataframe thead th {\n",
       "        text-align: right;\n",
       "    }\n",
       "</style>\n",
       "<table border=\"1\" class=\"dataframe\">\n",
       "  <thead>\n",
       "    <tr style=\"text-align: right;\">\n",
       "      <th></th>\n",
       "      <th>products</th>\n",
       "      <th>ingredient</th>\n",
       "    </tr>\n",
       "  </thead>\n",
       "  <tbody>\n",
       "    <tr>\n",
       "      <th>0</th>\n",
       "      <td>Mayo-ketchup - Goya</td>\n",
       "      <td>egg</td>\n",
       "    </tr>\n",
       "    <tr>\n",
       "      <th>1</th>\n",
       "      <td>Ham Croquettes - Goya</td>\n",
       "      <td>egg</td>\n",
       "    </tr>\n",
       "    <tr>\n",
       "      <th>2</th>\n",
       "      <td>Spinach empanadas - Goya</td>\n",
       "      <td>egg</td>\n",
       "    </tr>\n",
       "    <tr>\n",
       "      <th>3</th>\n",
       "      <td>Croquettes - Goya</td>\n",
       "      <td>egg</td>\n",
       "    </tr>\n",
       "    <tr>\n",
       "      <th>4</th>\n",
       "      <td>Ham Croquettes - Goya</td>\n",
       "      <td>egg</td>\n",
       "    </tr>\n",
       "  </tbody>\n",
       "</table>\n",
       "</div>"
      ],
      "text/plain": [
       "                   products ingredient\n",
       "0       Mayo-ketchup - Goya        egg\n",
       "1     Ham Croquettes - Goya        egg\n",
       "2  Spinach empanadas - Goya        egg\n",
       "3         Croquettes - Goya        egg\n",
       "4     Ham Croquettes - Goya        egg"
      ]
     },
     "execution_count": 10,
     "metadata": {},
     "output_type": "execute_result"
    }
   ],
   "source": [
    "egg_df = pd.DataFrame(all_eggs_list)\n",
    "egg_df.rename(columns={0: \"products\"}, inplace=True)\n",
    "ingredient = \"egg\"\n",
    "egg_df[\"ingredient\"] = ingredient\n",
    "egg_df.head()"
   ]
  },
  {
   "cell_type": "code",
   "execution_count": 11,
   "metadata": {},
   "outputs": [
    {
     "data": {
      "text/html": [
       "<div>\n",
       "<style scoped>\n",
       "    .dataframe tbody tr th:only-of-type {\n",
       "        vertical-align: middle;\n",
       "    }\n",
       "\n",
       "    .dataframe tbody tr th {\n",
       "        vertical-align: top;\n",
       "    }\n",
       "\n",
       "    .dataframe thead th {\n",
       "        text-align: right;\n",
       "    }\n",
       "</style>\n",
       "<table border=\"1\" class=\"dataframe\">\n",
       "  <thead>\n",
       "    <tr style=\"text-align: right;\">\n",
       "      <th></th>\n",
       "      <th>ingredient</th>\n",
       "      <th>products</th>\n",
       "    </tr>\n",
       "  </thead>\n",
       "  <tbody>\n",
       "    <tr>\n",
       "      <th>0</th>\n",
       "      <td>egg</td>\n",
       "      <td>Mayo-ketchup - Goya</td>\n",
       "    </tr>\n",
       "    <tr>\n",
       "      <th>1</th>\n",
       "      <td>egg</td>\n",
       "      <td>Ham Croquettes - Goya</td>\n",
       "    </tr>\n",
       "    <tr>\n",
       "      <th>2</th>\n",
       "      <td>egg</td>\n",
       "      <td>Spinach empanadas - Goya</td>\n",
       "    </tr>\n",
       "    <tr>\n",
       "      <th>3</th>\n",
       "      <td>egg</td>\n",
       "      <td>Croquettes - Goya</td>\n",
       "    </tr>\n",
       "    <tr>\n",
       "      <th>4</th>\n",
       "      <td>egg</td>\n",
       "      <td>Ham Croquettes - Goya</td>\n",
       "    </tr>\n",
       "  </tbody>\n",
       "</table>\n",
       "</div>"
      ],
      "text/plain": [
       "  ingredient                  products\n",
       "0        egg       Mayo-ketchup - Goya\n",
       "1        egg     Ham Croquettes - Goya\n",
       "2        egg  Spinach empanadas - Goya\n",
       "3        egg         Croquettes - Goya\n",
       "4        egg     Ham Croquettes - Goya"
      ]
     },
     "execution_count": 11,
     "metadata": {},
     "output_type": "execute_result"
    }
   ],
   "source": [
    "egg_df = egg_df[[\"ingredient\", \"products\"]]\n",
    "egg_df.head()"
   ]
  },
  {
   "cell_type": "code",
   "execution_count": 12,
   "metadata": {},
   "outputs": [],
   "source": [
    "final_egg_df = egg_df.drop_duplicates()"
   ]
  },
  {
   "cell_type": "code",
   "execution_count": 13,
   "metadata": {},
   "outputs": [
    {
     "data": {
      "text/html": [
       "<div>\n",
       "<style scoped>\n",
       "    .dataframe tbody tr th:only-of-type {\n",
       "        vertical-align: middle;\n",
       "    }\n",
       "\n",
       "    .dataframe tbody tr th {\n",
       "        vertical-align: top;\n",
       "    }\n",
       "\n",
       "    .dataframe thead th {\n",
       "        text-align: right;\n",
       "    }\n",
       "</style>\n",
       "<table border=\"1\" class=\"dataframe\">\n",
       "  <thead>\n",
       "    <tr style=\"text-align: right;\">\n",
       "      <th></th>\n",
       "      <th>ingredient</th>\n",
       "      <th>products</th>\n",
       "    </tr>\n",
       "  </thead>\n",
       "  <tbody>\n",
       "    <tr>\n",
       "      <th>0</th>\n",
       "      <td>egg</td>\n",
       "      <td>Mayo-ketchup - Goya</td>\n",
       "    </tr>\n",
       "    <tr>\n",
       "      <th>1</th>\n",
       "      <td>egg</td>\n",
       "      <td>Ham Croquettes - Goya</td>\n",
       "    </tr>\n",
       "    <tr>\n",
       "      <th>2</th>\n",
       "      <td>egg</td>\n",
       "      <td>Spinach empanadas - Goya</td>\n",
       "    </tr>\n",
       "    <tr>\n",
       "      <th>3</th>\n",
       "      <td>egg</td>\n",
       "      <td>Croquettes - Goya</td>\n",
       "    </tr>\n",
       "    <tr>\n",
       "      <th>5</th>\n",
       "      <td>egg</td>\n",
       "      <td>Authentic Style Rice Pilaf - Goya</td>\n",
       "    </tr>\n",
       "    <tr>\n",
       "      <th>6</th>\n",
       "      <td>egg</td>\n",
       "      <td>Chicken Croquettes - Goya</td>\n",
       "    </tr>\n",
       "    <tr>\n",
       "      <th>7</th>\n",
       "      <td>egg</td>\n",
       "      <td>Baked Beef Empanadas - Goya</td>\n",
       "    </tr>\n",
       "    <tr>\n",
       "      <th>8</th>\n",
       "      <td>egg</td>\n",
       "      <td>Baked empanadas - Goya</td>\n",
       "    </tr>\n",
       "    <tr>\n",
       "      <th>9</th>\n",
       "      <td>egg</td>\n",
       "      <td>Mayonnaise - Goya</td>\n",
       "    </tr>\n",
       "    <tr>\n",
       "      <th>10</th>\n",
       "      <td>egg</td>\n",
       "      <td>Goya, latin style bread crumbs</td>\n",
       "    </tr>\n",
       "    <tr>\n",
       "      <th>12</th>\n",
       "      <td>egg</td>\n",
       "      <td>Mexican Style Stuffed Peppers Rellenos - Goya</td>\n",
       "    </tr>\n",
       "    <tr>\n",
       "      <th>14</th>\n",
       "      <td>egg</td>\n",
       "      <td>Tequenos South American Cheese Sticks - Goya</td>\n",
       "    </tr>\n",
       "  </tbody>\n",
       "</table>\n",
       "</div>"
      ],
      "text/plain": [
       "   ingredient                                       products\n",
       "0         egg                            Mayo-ketchup - Goya\n",
       "1         egg                          Ham Croquettes - Goya\n",
       "2         egg                       Spinach empanadas - Goya\n",
       "3         egg                              Croquettes - Goya\n",
       "5         egg              Authentic Style Rice Pilaf - Goya\n",
       "6         egg                      Chicken Croquettes - Goya\n",
       "7         egg                    Baked Beef Empanadas - Goya\n",
       "8         egg                         Baked empanadas - Goya\n",
       "9         egg                              Mayonnaise - Goya\n",
       "10        egg                 Goya, latin style bread crumbs\n",
       "12        egg  Mexican Style Stuffed Peppers Rellenos - Goya\n",
       "14        egg   Tequenos South American Cheese Sticks - Goya"
      ]
     },
     "execution_count": 13,
     "metadata": {},
     "output_type": "execute_result"
    }
   ],
   "source": [
    "final_egg_df"
   ]
  },
  {
   "cell_type": "code",
   "execution_count": 14,
   "metadata": {},
   "outputs": [],
   "source": [
    "final_egg_df.to_csv(\"data/egg.csv\")"
   ]
  },
  {
   "cell_type": "code",
   "execution_count": null,
   "metadata": {},
   "outputs": [],
   "source": []
  }
 ],
 "metadata": {
  "kernelspec": {
   "display_name": "Python [conda env:PythonData] *",
   "language": "python",
   "name": "conda-env-PythonData-py"
  },
  "language_info": {
   "codemirror_mode": {
    "name": "ipython",
    "version": 3
   },
   "file_extension": ".py",
   "mimetype": "text/x-python",
   "name": "python",
   "nbconvert_exporter": "python",
   "pygments_lexer": "ipython3",
   "version": "3.6.10"
  }
 },
 "nbformat": 4,
 "nbformat_minor": 4
}
