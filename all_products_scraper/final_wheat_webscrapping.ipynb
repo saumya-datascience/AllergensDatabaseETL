{
 "cells": [
  {
   "cell_type": "code",
   "execution_count": null,
   "metadata": {},
   "outputs": [],
   "source": [
    "# Dependencies\n",
    "from bs4 import BeautifulSoup\n",
    "import requests\n",
    "import pandas as pd\n",
    "from time import sleep\n"
   ]
  },
  {
   "cell_type": "code",
   "execution_count": null,
   "metadata": {},
   "outputs": [],
   "source": [
    "url='https://world.openfoodfacts.org/brand/goya/ingredients'\n",
    "response=requests.get(url)"
   ]
  },
  {
   "cell_type": "code",
   "execution_count": null,
   "metadata": {},
   "outputs": [],
   "source": [
    "soup = BeautifulSoup(response.text, 'html.parser')"
   ]
  },
  {
   "cell_type": "code",
   "execution_count": null,
   "metadata": {},
   "outputs": [],
   "source": [
    "#1.get all the ingredient list\n",
    "#2.get all the links to access the products\n",
    "#3.get all the products and respective ingredients in a dict\n",
    "\n",
    "#final_dict={\"Ingredient\":[],\"Products\":[]}\n",
    "#product_list=[]\n",
    "link_list=[]\n",
    "ingredient_list=[]\n",
    "results = soup.find_all(\"a\", {'class':[\"tag known\",\"tag user_defined\"]})\n",
    "url='https://world.openfoodfacts.org'\n",
    "for result in results:\n",
    "    try:   \n",
    "        sleep(0.5)\n",
    "        ingredients=result.text\n",
    "        link= result[\"href\"]\n",
    "        print(link)\n",
    "        base_url=url+link\n",
    "        print(base_url)\n",
    "        link_list.append(base_url)\n",
    "        ingredient_list.append(ingredients)\n",
    "        \n",
    "    except:\n",
    "        pass"
   ]
  },
  {
   "cell_type": "code",
   "execution_count": null,
   "metadata": {},
   "outputs": [],
   "source": [
    "#get the link for wheat\n",
    "wheat_link = [x for x in link_list if \"wheat\" in x]\n",
    "\n",
    "wheat_link"
   ]
  },
  {
   "cell_type": "code",
   "execution_count": null,
   "metadata": {},
   "outputs": [],
   "source": [
    "#getting all the product containing wheat and saving in wheat_link\n",
    "wheat_dict={\"Ingredient\":[],\"Products\":[]}\n",
    "wheatprolist=[]\n",
    "for link in wheat_list:\n",
    "    try:\n",
    "        ingredient = link.split('/')[-1]\n",
    "        response=requests.get(link)\n",
    "        value_soup= BeautifulSoup(response.text, 'html.parser')\n",
    "        values=value_soup.find('div', id=\"search_results\").find_all('a')\n",
    "        for value in values:\n",
    "        #print(value)\n",
    "            #title=value[\"title\"]\n",
    "            wheatprolist.append(value[\"title\"])\n",
    "            print(wheatprolist)\n",
    "        final_product_list = [i.replace(\"\\xa0\",\" \") for i in wheatprolist]    \n",
    "        subset_dict[\"Ingredient\"].append(ingredient)\n",
    "        subset_dict[\"Products\"].append(wheatprolist)\n",
    "        #pro_list=[]\n",
    "    except:\n",
    "        pass"
   ]
  },
  {
   "cell_type": "code",
   "execution_count": null,
   "metadata": {},
   "outputs": [],
   "source": [
    "print(final_product_list)\n",
    "wheat_df = pd.DataFrame(final_product_list)\n",
    "print(wheat_df)\n",
    "wheat_df.rename(columns={0: \"products\"}, inplace=True)\n",
    "ingredient = \"wheat\"\n",
    "wheat_df[\"ingredient\"] = ingredient\n",
    "wheat_df = wheat_df[[\"ingredient\", \"products\"]]\n",
    "\n",
    "wheat_df"
   ]
  },
  {
   "cell_type": "code",
   "execution_count": null,
   "metadata": {},
   "outputs": [],
   "source": [
    "wheat_final_df=wheat_df.drop_duplicates()"
   ]
  },
  {
   "cell_type": "code",
   "execution_count": null,
   "metadata": {},
   "outputs": [],
   "source": [
    "wheat_final_df.to_csv(\"wheat-final.csv\")"
   ]
  },
  {
   "cell_type": "code",
   "execution_count": null,
   "metadata": {},
   "outputs": [],
   "source": []
  }
 ],
 "metadata": {
  "kernelspec": {
   "display_name": "Python [conda env:PythonData] *",
   "language": "python",
   "name": "conda-env-PythonData-py"
  },
  "language_info": {
   "codemirror_mode": {
    "name": "ipython",
    "version": 3
   },
   "file_extension": ".py",
   "mimetype": "text/x-python",
   "name": "python",
   "nbconvert_exporter": "python",
   "pygments_lexer": "ipython3",
   "version": "3.6.10"
  }
 },
 "nbformat": 4,
 "nbformat_minor": 4
}
