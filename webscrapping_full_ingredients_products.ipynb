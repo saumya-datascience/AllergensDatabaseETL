{
 "cells": [
  {
   "cell_type": "code",
   "execution_count": 1,
   "metadata": {},
   "outputs": [],
   "source": [
    "# Dependencies\n",
    "from bs4 import BeautifulSoup\n",
    "import requests\n",
    "import pandas as pd\n",
    "from splinter import Browser\n",
    "from webdriver_manager.chrome import ChromeDriverManager\n",
    "from time import sleep\n"
   ]
  },
  {
   "cell_type": "code",
   "execution_count": 2,
   "metadata": {},
   "outputs": [],
   "source": [
    "url='https://world.openfoodfacts.org/brand/goya/ingredients'\n",
    "response=requests.get(url)"
   ]
  },
  {
   "cell_type": "code",
   "execution_count": 4,
   "metadata": {},
   "outputs": [],
   "source": [
    "soup = BeautifulSoup(response.text, 'html.parser')\n",
    "#print(soup)"
   ]
  },
  {
   "cell_type": "code",
   "execution_count": 5,
   "metadata": {},
   "outputs": [],
   "source": [
    "final_dict={\"Ingredient\":[],\"Products\":[]}\n",
    "product_list=[]\n",
    "\n",
    "results = soup.find_all(\"a\", {'class':[\"tag known\",\"tag user_defined\"]})\n",
    "url='https://world.openfoodfacts.org'\n",
    "\n",
    "\n",
    "for result in results:\n",
    "    try:   \n",
    "        sleep(0.5)\n",
    "        ingredients=result.text\n",
    "        link= result[\"href\"]\n",
    "        #print(link)\n",
    "        #print(ingredients)\n",
    "        base_url=url+link\n",
    "        #print(base_url)\n",
    "        response=requests.get(base_url)\n",
    "        #print(base_url)\n",
    "        value_soup= BeautifulSoup(response.text, 'html.parser')\n",
    "        #print(value_soup)\n",
    "        values=value_soup.find('div', id=\"search_results\").find_all('a')\n",
    "        #print(values)\n",
    "        \n",
    "\n",
    "        for value in values:\n",
    "            #print(value)\n",
    "            product_list.append(value[\"title\"])\n",
    "            #print(product_list)\n",
    "        final_product_list = [i.replace(\"\\xa0\",\" \") for i in product_list]\n",
    "             \n",
    "\n",
    "        final_dict[\"Ingredient\"].append(ingredients)\n",
    "        final_dict[\"Products\"].append(product_list)\n",
    "        product_list=[]\n",
    "    except:\n",
    "        pass"
   ]
  },
  {
   "cell_type": "code",
   "execution_count": 6,
   "metadata": {},
   "outputs": [],
   "source": [
    "final=pd.DataFrame.from_dict(final_dict)"
   ]
  },
  {
   "cell_type": "code",
   "execution_count": 7,
   "metadata": {},
   "outputs": [
    {
     "data": {
      "text/html": [
       "<div>\n",
       "<style scoped>\n",
       "    .dataframe tbody tr th:only-of-type {\n",
       "        vertical-align: middle;\n",
       "    }\n",
       "\n",
       "    .dataframe tbody tr th {\n",
       "        vertical-align: top;\n",
       "    }\n",
       "\n",
       "    .dataframe thead th {\n",
       "        text-align: right;\n",
       "    }\n",
       "</style>\n",
       "<table border=\"1\" class=\"dataframe\">\n",
       "  <thead>\n",
       "    <tr style=\"text-align: right;\">\n",
       "      <th></th>\n",
       "      <th>Ingredient</th>\n",
       "      <th>Products</th>\n",
       "    </tr>\n",
       "  </thead>\n",
       "  <tbody>\n",
       "    <tr>\n",
       "      <th>0</th>\n",
       "      <td>Salt</td>\n",
       "      <td>[Habichuelas romanas - Goya, Goya, butter bean...</td>\n",
       "    </tr>\n",
       "    <tr>\n",
       "      <th>1</th>\n",
       "      <td>Water</td>\n",
       "      <td>[Habichuelas romanas - Goya, Goya, butter bean...</td>\n",
       "    </tr>\n",
       "    <tr>\n",
       "      <th>2</th>\n",
       "      <td>Vegetable</td>\n",
       "      <td>[Culantro Cooking Base - Goya - 12 oz, Powdere...</td>\n",
       "    </tr>\n",
       "    <tr>\n",
       "      <th>3</th>\n",
       "      <td>Root vegetable</td>\n",
       "      <td>[Culantro Cooking Base - Goya - 12 oz, Powdere...</td>\n",
       "    </tr>\n",
       "    <tr>\n",
       "      <th>4</th>\n",
       "      <td>Oil and fat</td>\n",
       "      <td>[Culantro Cooking Base - Goya - 12 oz, Articho...</td>\n",
       "    </tr>\n",
       "    <tr>\n",
       "      <th>...</th>\n",
       "      <td>...</td>\n",
       "      <td>...</td>\n",
       "    </tr>\n",
       "    <tr>\n",
       "      <th>1146</th>\n",
       "      <td>sun-flower-oil</td>\n",
       "      <td>[Mediterranean Salad - Goya]</td>\n",
       "    </tr>\n",
       "    <tr>\n",
       "      <th>1147</th>\n",
       "      <td>large-fava-beans</td>\n",
       "      <td>[Large Fava Beans - Goya]</td>\n",
       "    </tr>\n",
       "    <tr>\n",
       "      <th>1148</th>\n",
       "      <td>capsicum-annuum</td>\n",
       "      <td>[Goya, piquin in brine]</td>\n",
       "    </tr>\n",
       "    <tr>\n",
       "      <th>1149</th>\n",
       "      <td>nonfat-dry-milk-and-whey-solids</td>\n",
       "      <td>[Chorizo Croquettes - Goya]</td>\n",
       "    </tr>\n",
       "    <tr>\n",
       "      <th>1150</th>\n",
       "      <td>Pomegranate juice</td>\n",
       "      <td>[Coconut water with a pomegranate twist - Goya]</td>\n",
       "    </tr>\n",
       "  </tbody>\n",
       "</table>\n",
       "<p>1151 rows × 2 columns</p>\n",
       "</div>"
      ],
      "text/plain": [
       "                           Ingredient  \\\n",
       "0                                Salt   \n",
       "1                               Water   \n",
       "2                           Vegetable   \n",
       "3                      Root vegetable   \n",
       "4                         Oil and fat   \n",
       "...                               ...   \n",
       "1146                   sun-flower-oil   \n",
       "1147                 large-fava-beans   \n",
       "1148                  capsicum-annuum   \n",
       "1149  nonfat-dry-milk-and-whey-solids   \n",
       "1150                Pomegranate juice   \n",
       "\n",
       "                                               Products  \n",
       "0     [Habichuelas romanas - Goya, Goya, butter bean...  \n",
       "1     [Habichuelas romanas - Goya, Goya, butter bean...  \n",
       "2     [Culantro Cooking Base - Goya - 12 oz, Powdere...  \n",
       "3     [Culantro Cooking Base - Goya - 12 oz, Powdere...  \n",
       "4     [Culantro Cooking Base - Goya - 12 oz, Articho...  \n",
       "...                                                 ...  \n",
       "1146                       [Mediterranean Salad - Goya]  \n",
       "1147                          [Large Fava Beans - Goya]  \n",
       "1148                            [Goya, piquin in brine]  \n",
       "1149                        [Chorizo Croquettes - Goya]  \n",
       "1150    [Coconut water with a pomegranate twist - Goya]  \n",
       "\n",
       "[1151 rows x 2 columns]"
      ]
     },
     "execution_count": 7,
     "metadata": {},
     "output_type": "execute_result"
    }
   ],
   "source": [
    "final"
   ]
  },
  {
   "cell_type": "code",
   "execution_count": 8,
   "metadata": {},
   "outputs": [],
   "source": [
    "final.to_csv(\"final.csv\")"
   ]
  },
  {
   "cell_type": "code",
   "execution_count": null,
   "metadata": {},
   "outputs": [],
   "source": []
  }
 ],
 "metadata": {
  "kernelspec": {
   "display_name": "Python [conda env:PythonData] *",
   "language": "python",
   "name": "conda-env-PythonData-py"
  },
  "language_info": {
   "codemirror_mode": {
    "name": "ipython",
    "version": 3
   },
   "file_extension": ".py",
   "mimetype": "text/x-python",
   "name": "python",
   "nbconvert_exporter": "python",
   "pygments_lexer": "ipython3",
   "version": "3.6.10"
  }
 },
 "nbformat": 4,
 "nbformat_minor": 4
}
